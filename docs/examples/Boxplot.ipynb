{
 "cells": [
  {
   "cell_type": "markdown",
   "id": "f7996bc9",
   "metadata": {},
   "source": [
    "# Boxplot\n",
    "\n",
    "Parameters:  \n",
    "\n",
    "    df: pd.DataFrame,\n",
    "    x: object --> string column name of the violinplot values in the DF for the X\n",
    "    y: object --> string column name of the violinplot values in the DF for the Y \n",
    "    title='' --> string title\n",
    "    xlabel='' --> string x label \n",
    "    ylabel='' --> string y label \n",
    "    hue=None --> column you want to colour by\n",
    "    order=None --> order of your values\n",
    "    box_colors=None, --> a list of colours to plot the boxes by --> only works in older version of matplotlib\n",
    "    showfliers=False, \n",
    "    add_dots=False, \n",
    "    add_stats=True,\n",
    "    stat_method='Mann-Whitney',  # options: t-test_ind, t-test_welch, t-test_paired, Mann-Whitney, Mann-Whitney-gt, Mann-Whitney-ls, Levene, Wilcoxon, Kruskal from: https://www.statsmodels.org/stable/api.html\n",
    "    box_pairs=None --> a list of box pairs i.e. comparisons for the statistics\n",
    "    figsize=(3, 3), \n",
    "    title_font_size=12, \n",
    "    label_font_size=8, \n",
    "    title_font_weight=700, \n",
    "    config={})\n",
    "\n",
    "    \n",
    "\n",
    "Config options = any of the parameters with the same name but with in a dictionary format instead, and also includes default parameters for the visualisation such as the font family and font.\n",
    "\n",
    "Example config:\n",
    "```\n",
    "config={'palette': ['red', 'yellow', 'pink'], \n",
    "       'figsize':(4, 5),  # Size of figure (x, y)\n",
    "        'title_font_size': 16, # Size of the title (pt)\n",
    "        'label_font_size': 12, # Size of the labels (pt)\n",
    "        'title_font_weight': 700, # 700 = bold, 600 = normal, 400 = thin\n",
    "        'font_family': 'sans-serif', # 'serif', 'sans-serif', or 'monospace'\n",
    "        'font': ['Tahoma'] # Default: Arial  # http://jonathansoma.com/lede/data-studio/matplotlib/list-all-fonts-available-in-matplotlib-plus-samples/\n",
    "}\n",
    "```"
   ]
  },
  {
   "cell_type": "markdown",
   "id": "4ef75c87",
   "metadata": {},
   "source": [
    "## Loading data"
   ]
  },
  {
   "cell_type": "code",
   "execution_count": 1,
   "id": "743851b3",
   "metadata": {},
   "outputs": [
    {
     "data": {
      "text/html": [
       "<div>\n",
       "<style scoped>\n",
       "    .dataframe tbody tr th:only-of-type {\n",
       "        vertical-align: middle;\n",
       "    }\n",
       "\n",
       "    .dataframe tbody tr th {\n",
       "        vertical-align: top;\n",
       "    }\n",
       "\n",
       "    .dataframe thead th {\n",
       "        text-align: right;\n",
       "    }\n",
       "</style>\n",
       "<table border=\"1\" class=\"dataframe\">\n",
       "  <thead>\n",
       "    <tr style=\"text-align: right;\">\n",
       "      <th></th>\n",
       "      <th>sepal_length</th>\n",
       "      <th>sepal_width</th>\n",
       "      <th>petal_length</th>\n",
       "      <th>petal_width</th>\n",
       "      <th>label</th>\n",
       "    </tr>\n",
       "  </thead>\n",
       "  <tbody>\n",
       "    <tr>\n",
       "      <th>0</th>\n",
       "      <td>5.1</td>\n",
       "      <td>3.5</td>\n",
       "      <td>1.4</td>\n",
       "      <td>0.2</td>\n",
       "      <td>Iris-setosa</td>\n",
       "    </tr>\n",
       "    <tr>\n",
       "      <th>1</th>\n",
       "      <td>4.9</td>\n",
       "      <td>3.0</td>\n",
       "      <td>1.4</td>\n",
       "      <td>0.2</td>\n",
       "      <td>Iris-setosa</td>\n",
       "    </tr>\n",
       "    <tr>\n",
       "      <th>2</th>\n",
       "      <td>4.7</td>\n",
       "      <td>3.2</td>\n",
       "      <td>1.3</td>\n",
       "      <td>0.2</td>\n",
       "      <td>Iris-setosa</td>\n",
       "    </tr>\n",
       "    <tr>\n",
       "      <th>3</th>\n",
       "      <td>4.6</td>\n",
       "      <td>3.1</td>\n",
       "      <td>1.5</td>\n",
       "      <td>0.2</td>\n",
       "      <td>Iris-setosa</td>\n",
       "    </tr>\n",
       "    <tr>\n",
       "      <th>4</th>\n",
       "      <td>5.0</td>\n",
       "      <td>3.6</td>\n",
       "      <td>1.4</td>\n",
       "      <td>0.2</td>\n",
       "      <td>Iris-setosa</td>\n",
       "    </tr>\n",
       "    <tr>\n",
       "      <th>...</th>\n",
       "      <td>...</td>\n",
       "      <td>...</td>\n",
       "      <td>...</td>\n",
       "      <td>...</td>\n",
       "      <td>...</td>\n",
       "    </tr>\n",
       "    <tr>\n",
       "      <th>145</th>\n",
       "      <td>6.7</td>\n",
       "      <td>3.0</td>\n",
       "      <td>5.2</td>\n",
       "      <td>2.3</td>\n",
       "      <td>Iris-virginica</td>\n",
       "    </tr>\n",
       "    <tr>\n",
       "      <th>146</th>\n",
       "      <td>6.3</td>\n",
       "      <td>2.5</td>\n",
       "      <td>5.0</td>\n",
       "      <td>1.9</td>\n",
       "      <td>Iris-virginica</td>\n",
       "    </tr>\n",
       "    <tr>\n",
       "      <th>147</th>\n",
       "      <td>6.5</td>\n",
       "      <td>3.0</td>\n",
       "      <td>5.2</td>\n",
       "      <td>2.0</td>\n",
       "      <td>Iris-virginica</td>\n",
       "    </tr>\n",
       "    <tr>\n",
       "      <th>148</th>\n",
       "      <td>6.2</td>\n",
       "      <td>3.4</td>\n",
       "      <td>5.4</td>\n",
       "      <td>2.3</td>\n",
       "      <td>Iris-virginica</td>\n",
       "    </tr>\n",
       "    <tr>\n",
       "      <th>149</th>\n",
       "      <td>5.9</td>\n",
       "      <td>3.0</td>\n",
       "      <td>5.1</td>\n",
       "      <td>1.8</td>\n",
       "      <td>Iris-virginica</td>\n",
       "    </tr>\n",
       "  </tbody>\n",
       "</table>\n",
       "<p>150 rows × 5 columns</p>\n",
       "</div>"
      ],
      "text/plain": [
       "     sepal_length  sepal_width  petal_length  petal_width           label\n",
       "0             5.1          3.5           1.4          0.2     Iris-setosa\n",
       "1             4.9          3.0           1.4          0.2     Iris-setosa\n",
       "2             4.7          3.2           1.3          0.2     Iris-setosa\n",
       "3             4.6          3.1           1.5          0.2     Iris-setosa\n",
       "4             5.0          3.6           1.4          0.2     Iris-setosa\n",
       "..            ...          ...           ...          ...             ...\n",
       "145           6.7          3.0           5.2          2.3  Iris-virginica\n",
       "146           6.3          2.5           5.0          1.9  Iris-virginica\n",
       "147           6.5          3.0           5.2          2.0  Iris-virginica\n",
       "148           6.2          3.4           5.4          2.3  Iris-virginica\n",
       "149           5.9          3.0           5.1          1.8  Iris-virginica\n",
       "\n",
       "[150 rows x 5 columns]"
      ]
     },
     "execution_count": 1,
     "metadata": {},
     "output_type": "execute_result"
    }
   ],
   "source": [
    "import pandas as pd\n",
    "from sciviso import Barchart, Boxplot, Heatmap, Histogram, Scatterplot, Violinplot, Volcanoplot, Line\n",
    "import matplotlib.pyplot as plt\n",
    "\n",
    "df = pd.read_csv('iris.csv')\n",
    "df"
   ]
  },
  {
   "cell_type": "markdown",
   "id": "655d33b0",
   "metadata": {},
   "source": [
    "## Basic boxplot"
   ]
  },
  {
   "cell_type": "code",
   "execution_count": 2,
   "id": "bee623f5",
   "metadata": {},
   "outputs": [
    {
     "name": "stderr",
     "output_type": "stream",
     "text": [
      "No handles with labels found to put in legend.\n"
     ]
    },
    {
     "name": "stdout",
     "output_type": "stream",
     "text": [
      "p-value annotation legend:\n",
      "ns: 5.00e-02 < p <= 1.00e+00\n",
      "*: 1.00e-02 < p <= 5.00e-02\n",
      "**: 1.00e-03 < p <= 1.00e-02\n",
      "***: 1.00e-04 < p <= 1.00e-03\n",
      "****: p <= 1.00e-04\n",
      "\n",
      "Iris-setosa v.s. Iris-versicolor: Mann-Whitney-Wilcoxon test two-sided with Bonferroni correction, P_val=8.950e-13 U_stat=2.306e+03\n",
      "Iris-versicolor v.s. Iris-virginica: Mann-Whitney-Wilcoxon test two-sided with Bonferroni correction, P_val=1.372e-02 U_stat=8.410e+02\n",
      "Iris-setosa v.s. Iris-virginica: Mann-Whitney-Wilcoxon test two-sided with Bonferroni correction, P_val=3.543e-08 U_stat=2.074e+03\n"
     ]
    },
    {
     "data": {
      "image/png": "[encoded data removed]",
      "text/plain": [
       "<Figure size 216x216 with 1 Axes>"
      ]
     },
     "metadata": {},
     "output_type": "display_data"
    }
   ],
   "source": [
    "boxplot = Boxplot(df, x='label', y='sepal_width')\n",
    "boxplot.plot()\n",
    "plt.show()"
   ]
  },
  {
   "cell_type": "markdown",
   "id": "8abd608b",
   "metadata": {},
   "source": [
    "## Formatting data for boxplot\n",
    "\n",
    "Data needs to be formamted for the boxplot, for example, if we have a gene list and want to do a boxplot of just a few of them or some groups of genes (e.g. a group of genes we're interested in comparing between two conditions).  \n",
    "\n",
    "For this we'll use a different example dataset."
   ]
  },
  {
   "cell_type": "code",
   "execution_count": 3,
   "id": "6b8f2bf6",
   "metadata": {},
   "outputs": [
    {
     "data": {
      "text/html": [
       "<div>\n",
       "<style scoped>\n",
       "    .dataframe tbody tr th:only-of-type {\n",
       "        vertical-align: middle;\n",
       "    }\n",
       "\n",
       "    .dataframe tbody tr th {\n",
       "        vertical-align: top;\n",
       "    }\n",
       "\n",
       "    .dataframe thead th {\n",
       "        text-align: right;\n",
       "    }\n",
       "</style>\n",
       "<table border=\"1\" class=\"dataframe\">\n",
       "  <thead>\n",
       "    <tr style=\"text-align: right;\">\n",
       "      <th></th>\n",
       "      <th>external_gene_name</th>\n",
       "      <th>logfc</th>\n",
       "      <th>padj</th>\n",
       "    </tr>\n",
       "  </thead>\n",
       "  <tbody>\n",
       "    <tr>\n",
       "      <th>0</th>\n",
       "      <td>MT-TF</td>\n",
       "      <td>-2.6</td>\n",
       "      <td>0.02128</td>\n",
       "    </tr>\n",
       "    <tr>\n",
       "      <th>1</th>\n",
       "      <td>MT-RNR1</td>\n",
       "      <td>-6.1</td>\n",
       "      <td>0.83880</td>\n",
       "    </tr>\n",
       "    <tr>\n",
       "      <th>2</th>\n",
       "      <td>MT-TV</td>\n",
       "      <td>-8.6</td>\n",
       "      <td>0.25140</td>\n",
       "    </tr>\n",
       "    <tr>\n",
       "      <th>3</th>\n",
       "      <td>MT-RNR2</td>\n",
       "      <td>-0.9</td>\n",
       "      <td>0.29380</td>\n",
       "    </tr>\n",
       "    <tr>\n",
       "      <th>4</th>\n",
       "      <td>MT-TL1</td>\n",
       "      <td>1.1</td>\n",
       "      <td>0.58210</td>\n",
       "    </tr>\n",
       "    <tr>\n",
       "      <th>...</th>\n",
       "      <td>...</td>\n",
       "      <td>...</td>\n",
       "      <td>...</td>\n",
       "    </tr>\n",
       "    <tr>\n",
       "      <th>73620</th>\n",
       "      <td>ARHGEF5</td>\n",
       "      <td>6.5</td>\n",
       "      <td>0.55980</td>\n",
       "    </tr>\n",
       "    <tr>\n",
       "      <th>73621</th>\n",
       "      <td>NOBOX</td>\n",
       "      <td>1.5</td>\n",
       "      <td>0.01870</td>\n",
       "    </tr>\n",
       "    <tr>\n",
       "      <th>73622</th>\n",
       "      <td>AC004864.1</td>\n",
       "      <td>-8.5</td>\n",
       "      <td>0.05760</td>\n",
       "    </tr>\n",
       "    <tr>\n",
       "      <th>73623</th>\n",
       "      <td>MTRF1LP2</td>\n",
       "      <td>-4.8</td>\n",
       "      <td>0.17570</td>\n",
       "    </tr>\n",
       "    <tr>\n",
       "      <th>73624</th>\n",
       "      <td>GSDMC</td>\n",
       "      <td>3.5</td>\n",
       "      <td>0.78250</td>\n",
       "    </tr>\n",
       "  </tbody>\n",
       "</table>\n",
       "<p>73625 rows × 3 columns</p>\n",
       "</div>"
      ],
      "text/plain": [
       "      external_gene_name  logfc     padj\n",
       "0                  MT-TF   -2.6  0.02128\n",
       "1                MT-RNR1   -6.1  0.83880\n",
       "2                  MT-TV   -8.6  0.25140\n",
       "3                MT-RNR2   -0.9  0.29380\n",
       "4                 MT-TL1    1.1  0.58210\n",
       "...                  ...    ...      ...\n",
       "73620            ARHGEF5    6.5  0.55980\n",
       "73621              NOBOX    1.5  0.01870\n",
       "73622         AC004864.1   -8.5  0.05760\n",
       "73623           MTRF1LP2   -4.8  0.17570\n",
       "73624              GSDMC    3.5  0.78250\n",
       "\n",
       "[73625 rows x 3 columns]"
      ]
     },
     "execution_count": 3,
     "metadata": {},
     "output_type": "execute_result"
    }
   ],
   "source": [
    "df = pd.read_csv('volcano.csv')\n",
    "df"
   ]
  },
  {
   "cell_type": "code",
   "execution_count": 4,
   "id": "a6b33111",
   "metadata": {},
   "outputs": [
    {
     "name": "stderr",
     "output_type": "stream",
     "text": [
      "No handles with labels found to put in legend.\n"
     ]
    },
    {
     "name": "stdout",
     "output_type": "stream",
     "text": [
      "    Samples  Values Conditions\n",
      "0    cond_1     0.0     cond_1\n",
      "1    cond_2    -2.0     cond_2\n",
      "2    cond_1    -1.8     cond_1\n",
      "3    cond_2    -3.8     cond_2\n",
      "4    cond_1    -6.9     cond_1\n",
      "..      ...     ...        ...\n",
      "125  cond_2    -2.4     cond_2\n",
      "126  cond_1     7.0     cond_1\n",
      "127  cond_2     5.0     cond_2\n",
      "128  cond_1    -7.7     cond_1\n",
      "129  cond_2    -9.7     cond_2\n",
      "\n",
      "[130 rows x 3 columns]\n",
      "p-value annotation legend:\n",
      "ns: 5.00e-02 < p <= 1.00e+00\n",
      "*: 1.00e-02 < p <= 5.00e-02\n",
      "**: 1.00e-03 < p <= 1.00e-02\n",
      "***: 1.00e-04 < p <= 1.00e-03\n",
      "****: p <= 1.00e-04\n",
      "\n",
      "cond_1 v.s. cond_2: Mann-Whitney-Wilcoxon test two-sided with Bonferroni correction, P_val=2.169e-02 U_stat=2.606e+03\n"
     ]
    },
    {
     "data": {
      "text/plain": [
       "<AxesSubplot:>"
      ]
     },
     "execution_count": 4,
     "metadata": {},
     "output_type": "execute_result"
    },
    {
     "data": {
      "image/png": "[encoded data removed]",
      "text/plain": [
       "<Figure size 216x216 with 1 Axes>"
      ]
     },
     "metadata": {},
     "output_type": "display_data"
    }
   ],
   "source": [
    "# Now we'll do an example where we look at the logFC between two conditions\n",
    "# of a group of genes and test whether they are significantly different.\n",
    "\n",
    "# Pretend we have two conditions\n",
    "df['cond_1'] = df['logfc'] + 1\n",
    "df['cond_2'] = df['logfc'] - 1\n",
    "\n",
    "boxplot = Boxplot(df, x='external_gene_name', y='logfc')\n",
    "hox_genes = [g for g in df['external_gene_name'].values if 'HOX' in g]\n",
    "# conditions: list, filter_column=None, filter_values=None\n",
    "formatted_df = boxplot.format_data_for_boxplot(\n",
    "                   df, \n",
    "                   conditions=[\"cond_1\", \"cond_2\"], \n",
    "                   filter_column=\"external_gene_name\",\n",
    "                   filter_values=hox_genes\n",
    "                )\n",
    "print(formatted_df)\n",
    "\n",
    "# Reinitialise boxplot with the new data\n",
    "boxplot = Boxplot(formatted_df, \"Conditions\", \"Values\", \n",
    "                  box_colors=[\"plum\", \"gold\"], \n",
    "                  add_dots=True)\n",
    "boxplot.plot()"
   ]
  },
  {
   "cell_type": "markdown",
   "id": "c0023dcd",
   "metadata": {},
   "source": [
    "## Advanced sytle options\n",
    "\n",
    "Here are some examples where things like the bin, color and fig size have been changed."
   ]
  },
  {
   "cell_type": "code",
   "execution_count": 5,
   "id": "ed12550b",
   "metadata": {},
   "outputs": [
    {
     "name": "stderr",
     "output_type": "stream",
     "text": [
      "No handles with labels found to put in legend.\n"
     ]
    },
    {
     "name": "stdout",
     "output_type": "stream",
     "text": [
      "p-value annotation legend:\n",
      "ns: 5.00e-02 < p <= 1.00e+00\n",
      "*: 1.00e-02 < p <= 5.00e-02\n",
      "**: 1.00e-03 < p <= 1.00e-02\n",
      "***: 1.00e-04 < p <= 1.00e-03\n",
      "****: p <= 1.00e-04\n",
      "\n",
      "cond_1 v.s. cond_2: Mann-Whitney-Wilcoxon test two-sided with Bonferroni correction, P_val=2.169e-02 U_stat=2.606e+03\n"
     ]
    },
    {
     "data": {
      "image/png": "[encoded data removed]",
      "text/plain": [
       "<Figure size 288x360 with 1 Axes>"
      ]
     },
     "metadata": {},
     "output_type": "display_data"
    }
   ],
   "source": [
    "# boxplot = Boxplot(df: pd.DataFrame, x: object, y: object, title='', xlabel='', ylabel='', box_colors=None,\n",
    "#                 hue=None, order=None, hue_order=None, showfliers=False, add_dots=False, add_stats=True,\n",
    "#                 stat_method='Mann-Whitney', box_pairs=None, figsize=(3, 3), title_font_size=12, label_font_size=8, title_font_weight=700)# Config options = any of the parameters with the same name but with in a dictionary format instead\n",
    "\n",
    "# Let's continue with the previous example with the formatted data\n",
    "\n",
    "boxplot = Boxplot(df=formatted_df, x='Conditions', y='Values', title='Hox genes', xlabel='', ylabel='Log FC', \n",
    "                  box_colors=None, # An ordered list of colours to match the conditions\n",
    "                  hue=None, # A column in your dataset that you want to colour by\n",
    "                  order=None, # Order of the box's\n",
    "                  hue_order=None, # order of the colours\n",
    "                  showfliers=False, # Show fliers (on the box's)\n",
    "                  add_dots=False,  # Add dots for each data point\n",
    "                  add_stats=True, # Add statistics between box's pairwise tests\n",
    "                  stat_method='Mann-Whitney', # Type of stat\n",
    "                  box_pairs=None, # Pre-specified comparisons (if you don't want to do all pairs)\n",
    "                  figsize=(3, 3), \n",
    "                  title_font_size=12, \n",
    "                  label_font_size=8, \n",
    "                  title_font_weight=700, # Config options = any of the parameters with the same name but with in a dictionary format instead\n",
    "                  # You could also pass these as individual parameters, but it's easier to set as a dictionary\n",
    "                  # also, then you can re-use it for other charts!\n",
    "                  config={'figsize':(4, 5),  # Size of figure (x, y)\n",
    "                       'title_font_size': 16, # Size of the title (pt)\n",
    "                       'label_font_size': 12, # Size of the labels (pt)\n",
    "                       'title_font_weight': 700, # 700 = bold, 600 = normal, 400 = thin\n",
    "                       'font_family': 'sans-serif', # 'serif', 'sans-serif', or 'monospace'\n",
    "                       'font': ['Tahoma'] # Default: Arial  # http://jonathansoma.com/lede/data-studio/matplotlib/list-all-fonts-available-in-matplotlib-plus-samples/\n",
    "                  })\n",
    "boxplot.plot()\n",
    "plt.show()"
   ]
  },
  {
   "cell_type": "markdown",
   "id": "672e65fb",
   "metadata": {},
   "source": [
    "## Show multiple comparisons\n",
    "\n",
    "In this one we have an example where we have two conditions for two groups of genes."
   ]
  },
  {
   "cell_type": "code",
   "execution_count": 6,
   "id": "d4245918",
   "metadata": {},
   "outputs": [
    {
     "name": "stdout",
     "output_type": "stream",
     "text": [
      "p-value annotation legend:\n",
      "ns: 5.00e-02 < p <= 1.00e+00\n",
      "*: 1.00e-02 < p <= 5.00e-02\n",
      "**: 1.00e-03 < p <= 1.00e-02\n",
      "***: 1.00e-04 < p <= 1.00e-03\n",
      "****: p <= 1.00e-04\n",
      "\n",
      "cond_1 v.s. cond_2: t-test independent samples with Bonferroni correction, P_val=1.843e-13 stat=7.417e+00\n"
     ]
    },
    {
     "data": {
      "image/png": "[encoded data removed]",
      "text/plain": [
       "<Figure size 216x216 with 1 Axes>"
      ]
     },
     "metadata": {},
     "output_type": "display_data"
    }
   ],
   "source": [
    "# Pretend we have two conditions\n",
    "df['cond_1'] = df['logfc'] + 1\n",
    "df['cond_2'] = df['logfc'] - 1\n",
    "\n",
    "boxplot = Boxplot(df, x='external_gene_name', y='logfc')\n",
    "mt_genes = [g for g in df['external_gene_name'].values if 'MT' in g]\n",
    "hox_genes = [g for g in df['external_gene_name'].values if 'HOX' in g]\n",
    "# conditions: list, filter_column=None, filter_values=None\n",
    "hox_df = boxplot.format_data_for_boxplot(\n",
    "                   df, \n",
    "                   conditions=[\"cond_1\", \"cond_2\"], \n",
    "                   filter_column=\"external_gene_name\",\n",
    "                   filter_values=hox_genes)\n",
    "\n",
    "# Add another column to the hox df that's the label\n",
    "hox_df['Gene Group'] = 'Hox'\n",
    "\n",
    "# Create a df for the MT genes\n",
    "mt_df = boxplot.format_data_for_boxplot(\n",
    "                   df, \n",
    "                   conditions=[\"cond_1\", \"cond_2\"], \n",
    "                   filter_column=\"external_gene_name\",\n",
    "                   filter_values=mt_genes)\n",
    "\n",
    "# Add another column to the hox df that's the label\n",
    "mt_df['Gene Group'] = 'MT'\n",
    "\n",
    "gene_df = pd.concat([hox_df, mt_df])\n",
    "\n",
    "# Now we set hue\n",
    "boxplot = Boxplot(df=gene_df, x='Conditions', y='Values', title='Hox & MT genes', xlabel='', ylabel='Log FC', \n",
    "                  box_colors=None, # An ordered list of colours to match the conditions\n",
    "                  hue='Gene Group', # A column in your dataset that you want to colour by\n",
    "                  order=None, # Order of the box's\n",
    "                  hue_order=None, # order of the colours\n",
    "                  showfliers=False, # Show fliers (on the box's)\n",
    "                  add_dots=False,  # Add dots for each data point\n",
    "                  add_stats=True, # Add statistics between box's pairwise tests\n",
    "                  stat_method='t-test_ind', # Type of stat\n",
    "                  box_pairs=None, # Pre-specified comparisons (if you don't want to do all pairs)\n",
    "                  figsize=(3, 3), \n",
    "                  title_font_size=12, \n",
    "                  label_font_size=8, \n",
    "                  title_font_weight=700) # Config options = any of the parameters with the same name but with in a dictionary format instead)\n",
    "boxplot.plot()\n",
    "plt.show()"
   ]
  },
  {
   "cell_type": "markdown",
   "id": "6d90f086",
   "metadata": {},
   "source": [
    "## Another example"
   ]
  },
  {
   "cell_type": "code",
   "execution_count": 7,
   "id": "769020a9",
   "metadata": {},
   "outputs": [
    {
     "name": "stdout",
     "output_type": "stream",
     "text": [
      "p-value annotation legend:\n",
      "ns: 5.00e-02 < p <= 1.00e+00\n",
      "*: 1.00e-02 < p <= 5.00e-02\n",
      "**: 1.00e-03 < p <= 1.00e-02\n",
      "***: 1.00e-04 < p <= 1.00e-03\n",
      "****: p <= 1.00e-04\n",
      "\n",
      "cond_1Hox v.s. cond_1MT: Mann-Whitney-Wilcoxon test two-sided with Bonferroni correction, P_val=1.000e+00 U_stat=2.699e+04\n",
      "cond_1MT v.s. cond_2Hox: Mann-Whitney-Wilcoxon test two-sided with Bonferroni correction, P_val=5.865e-02 U_stat=3.216e+04\n",
      "cond_2Hox v.s. cond_2MT: Mann-Whitney-Wilcoxon test two-sided with Bonferroni correction, P_val=1.000e+00 U_stat=2.699e+04\n",
      "cond_1Hox v.s. cond_2Hox: Mann-Whitney-Wilcoxon test two-sided with Bonferroni correction, P_val=1.301e-01 U_stat=2.606e+03\n",
      "cond_1MT v.s. cond_2MT: Mann-Whitney-Wilcoxon test two-sided with Bonferroni correction, P_val=7.349e-11 U_stat=4.106e+05\n",
      "cond_1Hox v.s. cond_2MT: Mann-Whitney-Wilcoxon test two-sided with Bonferroni correction, P_val=6.067e-02 U_stat=3.214e+04\n"
     ]
    },
    {
     "data": {
      "image/png": "[encoded data removed]",
      "text/plain": [
       "<Figure size 216x216 with 1 Axes>"
      ]
     },
     "metadata": {},
     "output_type": "display_data"
    },
    {
     "name": "stdout",
     "output_type": "stream",
     "text": [
      "p-value annotation legend:\n",
      "ns: 5.00e-02 < p <= 1.00e+00\n",
      "*: 1.00e-02 < p <= 5.00e-02\n",
      "**: 1.00e-03 < p <= 1.00e-02\n",
      "***: 1.00e-04 < p <= 1.00e-03\n",
      "****: p <= 1.00e-04\n",
      "\n",
      "cond_1Hox v.s. cond_2Hox: Mann-Whitney-Wilcoxon test two-sided with Bonferroni correction, P_val=4.338e-02 U_stat=2.606e+03\n",
      "cond_1MT v.s. cond_2MT: Mann-Whitney-Wilcoxon test two-sided with Bonferroni correction, P_val=2.450e-11 U_stat=4.106e+05\n"
     ]
    },
    {
     "data": {
      "image/png": "[encoded data removed]",
      "text/plain": [
       "<Figure size 216x216 with 1 Axes>"
      ]
     },
     "metadata": {},
     "output_type": "display_data"
    },
    {
     "name": "stderr",
     "output_type": "stream",
     "text": [
      "No handles with labels found to put in legend.\n"
     ]
    },
    {
     "name": "stdout",
     "output_type": "stream",
     "text": [
      "p-value annotation legend:\n",
      "ns: 5.00e-02 < p <= 1.00e+00\n",
      "*: 1.00e-02 < p <= 5.00e-02\n",
      "**: 1.00e-03 < p <= 1.00e-02\n",
      "***: 1.00e-04 < p <= 1.00e-03\n",
      "****: p <= 1.00e-04\n",
      "\n",
      "cond_1Hox v.s. cond_2Hox: Mann-Whitney-Wilcoxon test two-sided with Bonferroni correction, P_val=4.338e-02 U_stat=2.606e+03\n",
      "cond_1MT v.s. cond_2MT: Mann-Whitney-Wilcoxon test two-sided with Bonferroni correction, P_val=2.450e-11 U_stat=4.106e+05\n"
     ]
    },
    {
     "data": {
      "image/png": "[encoded data removed]",
      "text/plain": [
       "<Figure size 216x216 with 1 Axes>"
      ]
     },
     "metadata": {},
     "output_type": "display_data"
    }
   ],
   "source": [
    "# Pretend we have two conditions and two groups of genes we want to identify the significance between\n",
    "df['cond_1'] = df['logfc'] + 1\n",
    "df['cond_2'] = df['logfc'] - 1\n",
    "\n",
    "boxplot = Boxplot(df, x='external_gene_name', y='logfc')\n",
    "mt_genes = [g for g in df['external_gene_name'].values if 'MT' in g]\n",
    "hox_genes = [g for g in df['external_gene_name'].values if 'HOX' in g]\n",
    "# conditions: list, filter_column=None, filter_values=None\n",
    "hox_df = boxplot.format_data_for_boxplot(\n",
    "                   df, \n",
    "                   conditions=[\"cond_1\", \"cond_2\"], \n",
    "                   filter_column=\"external_gene_name\",\n",
    "                   filter_values=hox_genes)\n",
    "\n",
    "# Add another column to the hox df that's the label\n",
    "hox_df['Gene Group'] = 'Hox'\n",
    "hox_df['Conditions'] = hox_df['Conditions'].values + hox_df['Gene Group'].values\n",
    "\n",
    "# Create a df for the MT genes\n",
    "mt_df = boxplot.format_data_for_boxplot(\n",
    "                   df, \n",
    "                   conditions=[\"cond_1\", \"cond_2\"], \n",
    "                   filter_column=\"external_gene_name\",\n",
    "                   filter_values=mt_genes)\n",
    "\n",
    "# Add another column to the hox df that's the label\n",
    "mt_df['Gene Group'] = 'MT'\n",
    "mt_df['Conditions'] = mt_df['Conditions'].values + mt_df['Gene Group'].values\n",
    "\n",
    "gene_df = pd.concat([hox_df, mt_df])\n",
    "\n",
    "#\n",
    "boxplot = Boxplot(df=gene_df, x='Conditions', y='Values', title='Hox & MT genes', xlabel='', ylabel='Log FC', \n",
    "                  hue='Gene Group') # A column in your dataset that you want to colour by) # Config options = any of the parameters with the same name but with in a dictionary format instead)\n",
    "boxplot.plot()\n",
    "plt.show()\n",
    "                  \n",
    "# Let's limit our tests to only the comparisons between things we're interested in\n",
    "boxplot = Boxplot(df=gene_df, x='Conditions', y='Values', title='Hox & MT genes', xlabel='', ylabel='Log FC', \n",
    "                  hue='Gene Group',\n",
    "                  box_pairs=[('cond_1Hox', 'cond_2Hox'), \n",
    "                             ('cond_1MT', 'cond_2MT'), \n",
    "                            ]) \n",
    "boxplot.plot()\n",
    "plt.show()\n",
    "\n",
    "# Alternatively instead of explicity setting the hue through seaborn we can do it manually (but the legend won't come up)\n",
    "# I personally prefer this and just manually set the label, it's a to do to add it in.\n",
    "# Let's limit our tests to only the comparisons between things we're interested in\n",
    "boxplot = Boxplot(df=gene_df, x='Conditions', y='Values', title='Hox & MT genes', xlabel='', ylabel='Log FC', \n",
    "                  box_colors=['lightblue', 'darkblue', 'lightgrey', 'darkgrey'],\n",
    "                  box_pairs=[('cond_1Hox', 'cond_2Hox'), \n",
    "                             ('cond_1MT', 'cond_2MT'), \n",
    "                            ]) \n",
    "boxplot.plot()\n",
    "plt.show()"
   ]
  },
  {
   "cell_type": "markdown",
   "id": "f251194b",
   "metadata": {},
   "source": [
    "## Saving\n",
    "\n",
    "Saving is the same for all plots and v simple, just make sure you specify what ending you want it to have."
   ]
  },
  {
   "cell_type": "code",
   "execution_count": 12,
   "id": "ee04712b",
   "metadata": {},
   "outputs": [
    {
     "name": "stderr",
     "output_type": "stream",
     "text": [
      "No handles with labels found to put in legend.\n"
     ]
    },
    {
     "name": "stdout",
     "output_type": "stream",
     "text": [
      "    Samples  Values Conditions\n",
      "0    cond_1     0.0     cond_1\n",
      "1    cond_2    -2.0     cond_2\n",
      "2    cond_1    -1.8     cond_1\n",
      "3    cond_2    -3.8     cond_2\n",
      "4    cond_1    -6.9     cond_1\n",
      "..      ...     ...        ...\n",
      "125  cond_2    -2.4     cond_2\n",
      "126  cond_1     7.0     cond_1\n",
      "127  cond_2     5.0     cond_2\n",
      "128  cond_1    -7.7     cond_1\n",
      "129  cond_2    -9.7     cond_2\n",
      "\n",
      "[130 rows x 3 columns]\n",
      "p-value annotation legend:\n",
      "ns: 5.00e-02 < p <= 1.00e+00\n",
      "*: 1.00e-02 < p <= 5.00e-02\n",
      "**: 1.00e-03 < p <= 1.00e-02\n",
      "***: 1.00e-04 < p <= 1.00e-03\n",
      "****: p <= 1.00e-04\n",
      "\n",
      "cond_1 v.s. cond_2: Mann-Whitney-Wilcoxon test two-sided with Bonferroni correction, P_val=2.169e-02 U_stat=2.606e+03\n"
     ]
    },
    {
     "data": {
      "image/png": "[encoded data removed]",
      "text/plain": [
       "<Figure size 216x216 with 1 Axes>"
      ]
     },
     "metadata": {},
     "output_type": "display_data"
    }
   ],
   "source": [
    "# Now we'll do an example where we look at the logFC between two conditions\n",
    "# of a group of genes and test whether they are significantly different.\n",
    "df = pd.read_csv('volcano.csv')\n",
    "df\n",
    "# Pretend we have two conditions\n",
    "df['cond_1'] = df['logfc'] + 1\n",
    "df['cond_2'] = df['logfc'] - 1\n",
    "\n",
    "boxplot = Boxplot(df, x='external_gene_name', y='logfc')\n",
    "hox_genes = [g for g in df['external_gene_name'].values if 'HOX' in g]\n",
    "# conditions: list, filter_column=None, filter_values=None\n",
    "formatted_df = boxplot.format_data_for_boxplot(\n",
    "                   df, \n",
    "                   conditions=[\"cond_1\", \"cond_2\"], \n",
    "                   filter_column=\"external_gene_name\",\n",
    "                   filter_values=hox_genes\n",
    "                )\n",
    "print(formatted_df)\n",
    "\n",
    "# Reinitialise boxplot with the new data\n",
    "boxplot = Boxplot(formatted_df, \"Conditions\", \"Values\", \n",
    "                  ylabel='logFC',\n",
    "                  title='Gene expression changes',\n",
    "                  box_colors=[\"plum\", \"gold\"], \n",
    "                  add_dots=True)\n",
    "boxplot.plot()\n",
    "plt.savefig('chart.svg') # .png, .pdf, .jpg\n",
    "plt.savefig('boxplot.png', dpi=300) # .png, .pdf, .jpg\n",
    "plt.savefig('chart.pdf') # .png, .pdf, .jpg"
   ]
  }
 ],
 "metadata": {
  "kernelspec": {
   "display_name": "Python 3",
   "language": "python",
   "name": "python3"
  },
  "language_info": {
   "codemirror_mode": {
    "name": "ipython",
    "version": 3
   },
   "file_extension": ".py",
   "mimetype": "text/x-python",
   "name": "python",
   "nbconvert_exporter": "python",
   "pygments_lexer": "ipython3",
   "version": "3.6.13"
  }
 },
 "nbformat": 4,
 "nbformat_minor": 5
}
